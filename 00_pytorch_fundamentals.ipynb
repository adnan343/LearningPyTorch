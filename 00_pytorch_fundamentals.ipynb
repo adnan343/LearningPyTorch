{
 "cells": [
  {
   "metadata": {},
   "cell_type": "markdown",
   "source": [
    "## 00. PyTorch Fundamentals\n",
    "\n",
    "Resource notebook: https://www.learnpytorch.io/00_pytorch_fundamentals/\n",
    "\n",
    "If you have a question: https://github.com/mrdbourke/pytorch-deep-learning/discussions"
   ],
   "id": "466591bc10e666a8"
  },
  {
   "metadata": {
    "ExecuteTime": {
     "end_time": "2025-09-25T17:47:13.503476Z",
     "start_time": "2025-09-25T17:47:06.235090Z"
    }
   },
   "cell_type": "code",
   "source": "import torch",
   "id": "fbc121e30a2defb3",
   "outputs": [],
   "execution_count": 1
  },
  {
   "metadata": {},
   "cell_type": "markdown",
   "source": [
    "## Introduction to Tensors\n",
    "\n",
    "### Creating Tensors\n",
    "\n",
    "PyTorch tensors are created using `torch.Tensor()` = https://docs.pytorch.org/docs/stable/tensors.html"
   ],
   "id": "ffa1c1c93f58fcae"
  },
  {
   "metadata": {
    "ExecuteTime": {
     "end_time": "2025-09-25T17:47:13.534567Z",
     "start_time": "2025-09-25T17:47:13.516995Z"
    }
   },
   "cell_type": "code",
   "source": [
    "# scalar\n",
    "scalar = torch.tensor(7)\n",
    "scalar"
   ],
   "id": "1e163ab642b912a7",
   "outputs": [
    {
     "data": {
      "text/plain": [
       "tensor(7)"
      ]
     },
     "execution_count": 2,
     "metadata": {},
     "output_type": "execute_result"
    }
   ],
   "execution_count": 2
  },
  {
   "metadata": {
    "ExecuteTime": {
     "end_time": "2025-09-25T17:47:13.547066Z",
     "start_time": "2025-09-25T17:47:13.543629Z"
    }
   },
   "cell_type": "code",
   "source": "scalar.ndim",
   "id": "3651fcd8f3462cf",
   "outputs": [
    {
     "data": {
      "text/plain": [
       "0"
      ]
     },
     "execution_count": 3,
     "metadata": {},
     "output_type": "execute_result"
    }
   ],
   "execution_count": 3
  },
  {
   "metadata": {
    "ExecuteTime": {
     "end_time": "2025-09-25T17:47:13.562856Z",
     "start_time": "2025-09-25T17:47:13.559739Z"
    }
   },
   "cell_type": "code",
   "source": [
    "# Get tensor back as Python int\n",
    "scalar.item()"
   ],
   "id": "da05f6c96dcda5a0",
   "outputs": [
    {
     "data": {
      "text/plain": [
       "7"
      ]
     },
     "execution_count": 4,
     "metadata": {},
     "output_type": "execute_result"
    }
   ],
   "execution_count": 4
  },
  {
   "metadata": {
    "ExecuteTime": {
     "end_time": "2025-09-25T17:47:13.579988Z",
     "start_time": "2025-09-25T17:47:13.576674Z"
    }
   },
   "cell_type": "code",
   "source": [
    "# Vector\n",
    "vector = torch.tensor([7, 7])\n",
    "vector"
   ],
   "id": "ee703cc09c773391",
   "outputs": [
    {
     "data": {
      "text/plain": [
       "tensor([7, 7])"
      ]
     },
     "execution_count": 5,
     "metadata": {},
     "output_type": "execute_result"
    }
   ],
   "execution_count": 5
  },
  {
   "metadata": {
    "ExecuteTime": {
     "end_time": "2025-09-25T17:47:13.596440Z",
     "start_time": "2025-09-25T17:47:13.593323Z"
    }
   },
   "cell_type": "code",
   "source": "vector.ndim",
   "id": "83ed257041eddae5",
   "outputs": [
    {
     "data": {
      "text/plain": [
       "1"
      ]
     },
     "execution_count": 6,
     "metadata": {},
     "output_type": "execute_result"
    }
   ],
   "execution_count": 6
  },
  {
   "metadata": {
    "ExecuteTime": {
     "end_time": "2025-09-25T17:47:13.612942Z",
     "start_time": "2025-09-25T17:47:13.610044Z"
    }
   },
   "cell_type": "code",
   "source": "vector.shape",
   "id": "f6acce5cf937a474",
   "outputs": [
    {
     "data": {
      "text/plain": [
       "torch.Size([2])"
      ]
     },
     "execution_count": 7,
     "metadata": {},
     "output_type": "execute_result"
    }
   ],
   "execution_count": 7
  },
  {
   "metadata": {
    "ExecuteTime": {
     "end_time": "2025-09-25T17:47:13.628803Z",
     "start_time": "2025-09-25T17:47:13.625671Z"
    }
   },
   "cell_type": "code",
   "source": [
    "# MATRIX\n",
    "MATRIX = torch.tensor([[7,8],\n",
    "                       [9,10]])\n",
    "MATRIX"
   ],
   "id": "a01e942c92e3f13c",
   "outputs": [
    {
     "data": {
      "text/plain": [
       "tensor([[ 7,  8],\n",
       "        [ 9, 10]])"
      ]
     },
     "execution_count": 8,
     "metadata": {},
     "output_type": "execute_result"
    }
   ],
   "execution_count": 8
  },
  {
   "metadata": {
    "ExecuteTime": {
     "end_time": "2025-09-25T17:47:13.657681Z",
     "start_time": "2025-09-25T17:47:13.654694Z"
    }
   },
   "cell_type": "code",
   "source": "MATRIX.ndim",
   "id": "1e11f72f7d8c39f8",
   "outputs": [
    {
     "data": {
      "text/plain": [
       "2"
      ]
     },
     "execution_count": 9,
     "metadata": {},
     "output_type": "execute_result"
    }
   ],
   "execution_count": 9
  },
  {
   "metadata": {
    "ExecuteTime": {
     "end_time": "2025-09-25T17:47:16.855289Z",
     "start_time": "2025-09-25T17:47:16.852131Z"
    }
   },
   "cell_type": "code",
   "source": "MATRIX[1]",
   "id": "87335da241ac530e",
   "outputs": [
    {
     "data": {
      "text/plain": [
       "tensor([ 9, 10])"
      ]
     },
     "execution_count": 10,
     "metadata": {},
     "output_type": "execute_result"
    }
   ],
   "execution_count": 10
  },
  {
   "metadata": {
    "ExecuteTime": {
     "end_time": "2025-09-25T17:47:16.951433Z",
     "start_time": "2025-09-25T17:47:16.948639Z"
    }
   },
   "cell_type": "code",
   "source": "MATRIX.size()",
   "id": "ce31bbabad816e26",
   "outputs": [
    {
     "data": {
      "text/plain": [
       "torch.Size([2, 2])"
      ]
     },
     "execution_count": 11,
     "metadata": {},
     "output_type": "execute_result"
    }
   ],
   "execution_count": 11
  },
  {
   "metadata": {
    "ExecuteTime": {
     "end_time": "2025-09-25T17:47:16.993451Z",
     "start_time": "2025-09-25T17:47:16.990327Z"
    }
   },
   "cell_type": "code",
   "source": "MATRIX[1].ndim",
   "id": "20ff67aeb165f5d8",
   "outputs": [
    {
     "data": {
      "text/plain": [
       "1"
      ]
     },
     "execution_count": 12,
     "metadata": {},
     "output_type": "execute_result"
    }
   ],
   "execution_count": 12
  },
  {
   "metadata": {
    "ExecuteTime": {
     "end_time": "2025-09-25T17:47:17.018171Z",
     "start_time": "2025-09-25T17:47:17.015002Z"
    }
   },
   "cell_type": "code",
   "source": "MATRIX[1].size()",
   "id": "dd2056187152f3fc",
   "outputs": [
    {
     "data": {
      "text/plain": [
       "torch.Size([2])"
      ]
     },
     "execution_count": 13,
     "metadata": {},
     "output_type": "execute_result"
    }
   ],
   "execution_count": 13
  },
  {
   "metadata": {
    "ExecuteTime": {
     "end_time": "2025-09-25T17:47:17.035163Z",
     "start_time": "2025-09-25T17:47:17.031388Z"
    }
   },
   "cell_type": "code",
   "source": [
    "# TENSOR\n",
    "TENSOR = torch.tensor([[[7,8],\n",
    "                       [9,10]],\n",
    "                      [[11,12],\n",
    "                       [13,14]]])\n",
    "TENSOR"
   ],
   "id": "7d3995029cda2613",
   "outputs": [
    {
     "data": {
      "text/plain": [
       "tensor([[[ 7,  8],\n",
       "         [ 9, 10]],\n",
       "\n",
       "        [[11, 12],\n",
       "         [13, 14]]])"
      ]
     },
     "execution_count": 14,
     "metadata": {},
     "output_type": "execute_result"
    }
   ],
   "execution_count": 14
  },
  {
   "metadata": {
    "ExecuteTime": {
     "end_time": "2025-09-25T17:47:17.054908Z",
     "start_time": "2025-09-25T17:47:17.050892Z"
    }
   },
   "cell_type": "code",
   "source": "TENSOR.ndim",
   "id": "69d302ad206c2348",
   "outputs": [
    {
     "data": {
      "text/plain": [
       "3"
      ]
     },
     "execution_count": 15,
     "metadata": {},
     "output_type": "execute_result"
    }
   ],
   "execution_count": 15
  },
  {
   "metadata": {
    "ExecuteTime": {
     "end_time": "2025-09-25T17:47:17.074754Z",
     "start_time": "2025-09-25T17:47:17.071655Z"
    }
   },
   "cell_type": "code",
   "source": "TENSOR.size()",
   "id": "c7f2a299f49d166c",
   "outputs": [
    {
     "data": {
      "text/plain": [
       "torch.Size([2, 2, 2])"
      ]
     },
     "execution_count": 16,
     "metadata": {},
     "output_type": "execute_result"
    }
   ],
   "execution_count": 16
  },
  {
   "metadata": {
    "ExecuteTime": {
     "end_time": "2025-09-25T17:47:17.091535Z",
     "start_time": "2025-09-25T17:47:17.088458Z"
    }
   },
   "cell_type": "code",
   "source": "TENSOR[0]",
   "id": "c09686ebc8cbc60d",
   "outputs": [
    {
     "data": {
      "text/plain": [
       "tensor([[ 7,  8],\n",
       "        [ 9, 10]])"
      ]
     },
     "execution_count": 17,
     "metadata": {},
     "output_type": "execute_result"
    }
   ],
   "execution_count": 17
  },
  {
   "metadata": {
    "ExecuteTime": {
     "end_time": "2025-09-25T17:47:17.140162Z",
     "start_time": "2025-09-25T17:47:17.136538Z"
    }
   },
   "cell_type": "code",
   "source": "TENSOR[0,0]",
   "id": "aa4fdeadf52269d0",
   "outputs": [
    {
     "data": {
      "text/plain": [
       "tensor([7, 8])"
      ]
     },
     "execution_count": 18,
     "metadata": {},
     "output_type": "execute_result"
    }
   ],
   "execution_count": 18
  },
  {
   "metadata": {},
   "cell_type": "markdown",
   "source": [
    "### Random tensors\n",
    "\n",
    "Why random tensors?\n",
    "\n",
    "Random tensors are important because the way many neural networks learn is that they start with tensors full of random numbers and then adjust those random numbers to better represent the data.\n",
    "\n",
    "`Start with random numbers -> look at data -> update random numbers -> look at data -> update random numbers`\n",
    "\n",
    "Torch random tensors - https://docs.pytorch.org/docs/2.8/generated/torch.rand.html"
   ],
   "id": "954780f73a2a2e2f"
  },
  {
   "metadata": {
    "ExecuteTime": {
     "end_time": "2025-09-25T17:47:17.235772Z",
     "start_time": "2025-09-25T17:47:17.226602Z"
    }
   },
   "cell_type": "code",
   "source": [
    "# Create a random tensor of size (3,4)\n",
    "random_tensor = torch.rand(3, 4)\n",
    "random_tensor"
   ],
   "id": "ead6e6dadcf1a138",
   "outputs": [
    {
     "data": {
      "text/plain": [
       "tensor([[0.0210, 0.5725, 0.7628, 0.5586],\n",
       "        [0.7831, 0.6823, 0.3622, 0.5718],\n",
       "        [0.2341, 0.2313, 0.4214, 0.7284]])"
      ]
     },
     "execution_count": 19,
     "metadata": {},
     "output_type": "execute_result"
    }
   ],
   "execution_count": 19
  },
  {
   "metadata": {
    "ExecuteTime": {
     "end_time": "2025-09-25T17:47:17.287250Z",
     "start_time": "2025-09-25T17:47:17.284329Z"
    }
   },
   "cell_type": "code",
   "source": "random_tensor.ndim",
   "id": "e73195ddb213afe8",
   "outputs": [
    {
     "data": {
      "text/plain": [
       "2"
      ]
     },
     "execution_count": 20,
     "metadata": {},
     "output_type": "execute_result"
    }
   ],
   "execution_count": 20
  },
  {
   "metadata": {
    "ExecuteTime": {
     "end_time": "2025-09-25T17:47:17.367305Z",
     "start_time": "2025-09-25T17:47:17.362717Z"
    }
   },
   "cell_type": "code",
   "source": [
    "# Create a random tensor with a similar shape to an image tensor\n",
    "random_image_size_tensor = torch.rand(size = (3, 224, 224)) # color channels (R, G, B), height, width\n",
    "random_image_size_tensor.shape, random_image_size_tensor.ndim"
   ],
   "id": "773440f1b109692c",
   "outputs": [
    {
     "data": {
      "text/plain": [
       "(torch.Size([3, 224, 224]), 3)"
      ]
     },
     "execution_count": 21,
     "metadata": {},
     "output_type": "execute_result"
    }
   ],
   "execution_count": 21
  },
  {
   "metadata": {},
   "cell_type": "markdown",
   "source": "### Zeros and ones",
   "id": "2b866ce54928a0d6"
  },
  {
   "metadata": {
    "ExecuteTime": {
     "end_time": "2025-09-25T17:47:17.408425Z",
     "start_time": "2025-09-25T17:47:17.404817Z"
    }
   },
   "cell_type": "code",
   "source": [
    "# Create a tensor of all zeros\n",
    "zeros = torch.zeros(size = (3, 4))\n",
    "zeros"
   ],
   "id": "7ec88021de7886cb",
   "outputs": [
    {
     "data": {
      "text/plain": [
       "tensor([[0., 0., 0., 0.],\n",
       "        [0., 0., 0., 0.],\n",
       "        [0., 0., 0., 0.]])"
      ]
     },
     "execution_count": 22,
     "metadata": {},
     "output_type": "execute_result"
    }
   ],
   "execution_count": 22
  },
  {
   "metadata": {
    "ExecuteTime": {
     "end_time": "2025-09-25T17:47:17.459576Z",
     "start_time": "2025-09-25T17:47:17.455704Z"
    }
   },
   "cell_type": "code",
   "source": "zeros * random_tensor",
   "id": "3a70aa4aa0f2ccb6",
   "outputs": [
    {
     "data": {
      "text/plain": [
       "tensor([[0., 0., 0., 0.],\n",
       "        [0., 0., 0., 0.],\n",
       "        [0., 0., 0., 0.]])"
      ]
     },
     "execution_count": 23,
     "metadata": {},
     "output_type": "execute_result"
    }
   ],
   "execution_count": 23
  },
  {
   "metadata": {
    "ExecuteTime": {
     "end_time": "2025-09-25T17:47:17.580387Z",
     "start_time": "2025-09-25T17:47:17.576358Z"
    }
   },
   "cell_type": "code",
   "source": [
    "# Create a tensor of all ones\n",
    "ones = torch.ones(size=(3, 4))\n",
    "ones"
   ],
   "id": "d3ad004e25afc3fa",
   "outputs": [
    {
     "data": {
      "text/plain": [
       "tensor([[1., 1., 1., 1.],\n",
       "        [1., 1., 1., 1.],\n",
       "        [1., 1., 1., 1.]])"
      ]
     },
     "execution_count": 24,
     "metadata": {},
     "output_type": "execute_result"
    }
   ],
   "execution_count": 24
  },
  {
   "metadata": {
    "ExecuteTime": {
     "end_time": "2025-09-25T17:47:17.709939Z",
     "start_time": "2025-09-25T17:47:17.707008Z"
    }
   },
   "cell_type": "code",
   "source": "ones.dtype",
   "id": "4cb180c2da83bd28",
   "outputs": [
    {
     "data": {
      "text/plain": [
       "torch.float32"
      ]
     },
     "execution_count": 25,
     "metadata": {},
     "output_type": "execute_result"
    }
   ],
   "execution_count": 25
  },
  {
   "metadata": {},
   "cell_type": "markdown",
   "source": "### Creating a range of tensors and tensor-like",
   "id": "efe30609136d18e9"
  },
  {
   "metadata": {
    "ExecuteTime": {
     "end_time": "2025-09-25T17:47:17.784306Z",
     "start_time": "2025-09-25T17:47:17.779378Z"
    }
   },
   "cell_type": "code",
   "source": [
    "# Use torch.arange()\n",
    "one_to_ten = torch.arange(1,11)\n",
    "one_to_ten"
   ],
   "id": "3fc0f2f5958f458d",
   "outputs": [
    {
     "data": {
      "text/plain": [
       "tensor([ 1,  2,  3,  4,  5,  6,  7,  8,  9, 10])"
      ]
     },
     "execution_count": 26,
     "metadata": {},
     "output_type": "execute_result"
    }
   ],
   "execution_count": 26
  },
  {
   "metadata": {
    "ExecuteTime": {
     "end_time": "2025-09-25T17:47:17.812160Z",
     "start_time": "2025-09-25T17:47:17.808958Z"
    }
   },
   "cell_type": "code",
   "source": [
    "# Creating tensor like\n",
    "ten_zeros = torch.zeros_like(input = one_to_ten)\n",
    "ten_zeros"
   ],
   "id": "f45d25429be21a76",
   "outputs": [
    {
     "data": {
      "text/plain": [
       "tensor([0, 0, 0, 0, 0, 0, 0, 0, 0, 0])"
      ]
     },
     "execution_count": 27,
     "metadata": {},
     "output_type": "execute_result"
    }
   ],
   "execution_count": 27
  },
  {
   "metadata": {},
   "cell_type": "markdown",
   "source": [
    "### Tensor datatypes\n",
    "\n",
    "**Note:** Tensor datatypes are one of the three big errors you'll run into with PyTorch & deep learning:\n",
    "1. Tensors not right datatype\n",
    "2. Tensors not right shape\n",
    "3. Tensors not on the right device"
   ],
   "id": "bb401f81700185dc"
  },
  {
   "metadata": {
    "ExecuteTime": {
     "end_time": "2025-09-25T17:47:18.183422Z",
     "start_time": "2025-09-25T17:47:17.850397Z"
    }
   },
   "cell_type": "code",
   "source": [
    "# Float 32 tensor\n",
    "float_32_tensor = torch.tensor([3.0, 6.0, 9.0],\n",
    "                               dtype=None, # what data type is the tensor? (e.g. float32 or float64)\n",
    "                               device=\"cuda\", # where is the tensor on? (e.g. cpu or cuda)\n",
    "                               requires_grad=False) # whether or not to track gradients with this tensor's operations\n",
    "float_32_tensor"
   ],
   "id": "8375d6b911785508",
   "outputs": [
    {
     "data": {
      "text/plain": [
       "tensor([3., 6., 9.], device='cuda:0')"
      ]
     },
     "execution_count": 28,
     "metadata": {},
     "output_type": "execute_result"
    }
   ],
   "execution_count": 28
  },
  {
   "metadata": {
    "ExecuteTime": {
     "end_time": "2025-09-25T17:47:18.192468Z",
     "start_time": "2025-09-25T17:47:18.189813Z"
    }
   },
   "cell_type": "code",
   "source": "float_32_tensor.dtype",
   "id": "8e3981f4565d0e72",
   "outputs": [
    {
     "data": {
      "text/plain": [
       "torch.float32"
      ]
     },
     "execution_count": 29,
     "metadata": {},
     "output_type": "execute_result"
    }
   ],
   "execution_count": 29
  },
  {
   "metadata": {
    "ExecuteTime": {
     "end_time": "2025-09-25T17:47:18.218042Z",
     "start_time": "2025-09-25T17:47:18.204123Z"
    }
   },
   "cell_type": "code",
   "source": [
    "float_16_tensor = float_32_tensor.type(torch.float16)\n",
    "float_16_tensor"
   ],
   "id": "b1a2b02643d71398",
   "outputs": [
    {
     "data": {
      "text/plain": [
       "tensor([3., 6., 9.], device='cuda:0', dtype=torch.float16)"
      ]
     },
     "execution_count": 30,
     "metadata": {},
     "output_type": "execute_result"
    }
   ],
   "execution_count": 30
  },
  {
   "metadata": {
    "ExecuteTime": {
     "end_time": "2025-09-25T17:47:18.230031Z",
     "start_time": "2025-09-25T17:47:18.224215Z"
    }
   },
   "cell_type": "code",
   "source": "float_16_tensor * float_32_tensor",
   "id": "3ab895e5211c16d7",
   "outputs": [
    {
     "data": {
      "text/plain": [
       "tensor([ 9., 36., 81.], device='cuda:0')"
      ]
     },
     "execution_count": 31,
     "metadata": {},
     "output_type": "execute_result"
    }
   ],
   "execution_count": 31
  },
  {
   "metadata": {
    "ExecuteTime": {
     "end_time": "2025-09-25T17:47:18.243739Z",
     "start_time": "2025-09-25T17:47:18.238328Z"
    }
   },
   "cell_type": "code",
   "source": [
    "int_32_tensor = torch.tensor([2, 6, 3],\n",
    "                             dtype=torch.int32,\n",
    "                             device=\"cuda\",\n",
    "                             requires_grad=False)\n",
    "int_32_tensor"
   ],
   "id": "e2ffbaa5aaf0514f",
   "outputs": [
    {
     "data": {
      "text/plain": [
       "tensor([2, 6, 3], device='cuda:0', dtype=torch.int32)"
      ]
     },
     "execution_count": 32,
     "metadata": {},
     "output_type": "execute_result"
    }
   ],
   "execution_count": 32
  },
  {
   "metadata": {
    "ExecuteTime": {
     "end_time": "2025-09-25T17:47:18.260593Z",
     "start_time": "2025-09-25T17:47:18.251805Z"
    }
   },
   "cell_type": "code",
   "source": "int_32_tensor * float_32_tensor",
   "id": "b4959d12d47bae55",
   "outputs": [
    {
     "data": {
      "text/plain": [
       "tensor([ 6., 36., 27.], device='cuda:0')"
      ]
     },
     "execution_count": 33,
     "metadata": {},
     "output_type": "execute_result"
    }
   ],
   "execution_count": 33
  },
  {
   "metadata": {},
   "cell_type": "markdown",
   "source": [
    "### Getting information from tensors (tensor attributes)\n",
    "\n",
    "1. Tensors not right datatype - to get data type, use `tensor.dtype`\n",
    "2. Tensors not right shape - to get shape, use `tensor.shape`\n",
    "3. Tensors not on the right device - to get device, use `tensor.device`"
   ],
   "id": "258f8f6a8c014f5c"
  },
  {
   "metadata": {
    "ExecuteTime": {
     "end_time": "2025-09-25T17:47:18.279408Z",
     "start_time": "2025-09-25T17:47:18.265892Z"
    }
   },
   "cell_type": "code",
   "source": [
    "# Create a tensor\n",
    "some_tensor = torch.rand(3,4, dtype=torch.float16, device=\"cuda\")\n",
    "some_tensor"
   ],
   "id": "975d27b9e7b17f72",
   "outputs": [
    {
     "data": {
      "text/plain": [
       "tensor([[0.5566, 0.0947, 0.4924, 0.8174],\n",
       "        [0.4221, 0.7002, 0.2483, 0.5576],\n",
       "        [0.5908, 0.7769, 0.8755, 0.8672]], device='cuda:0',\n",
       "       dtype=torch.float16)"
      ]
     },
     "execution_count": 34,
     "metadata": {},
     "output_type": "execute_result"
    }
   ],
   "execution_count": 34
  },
  {
   "metadata": {
    "ExecuteTime": {
     "end_time": "2025-09-25T17:47:18.315312Z",
     "start_time": "2025-09-25T17:47:18.311510Z"
    }
   },
   "cell_type": "code",
   "source": [
    "# Find out details about some tensor\n",
    "print(some_tensor)\n",
    "print()\n",
    "print(f\"Data type of tensor: {some_tensor.dtype}\")\n",
    "print(f\"Shape of tensor: {some_tensor.shape}\")\n",
    "print(f\"Device tensor is on: {some_tensor.device}\")"
   ],
   "id": "9919f0e7de7fd704",
   "outputs": [
    {
     "name": "stdout",
     "output_type": "stream",
     "text": [
      "tensor([[0.5566, 0.0947, 0.4924, 0.8174],\n",
      "        [0.4221, 0.7002, 0.2483, 0.5576],\n",
      "        [0.5908, 0.7769, 0.8755, 0.8672]], device='cuda:0',\n",
      "       dtype=torch.float16)\n",
      "\n",
      "Data type of tensor: torch.float16\n",
      "Shape of tensor: torch.Size([3, 4])\n",
      "Device tensor is on: cuda:0\n"
     ]
    }
   ],
   "execution_count": 35
  },
  {
   "metadata": {},
   "cell_type": "markdown",
   "source": [
    "### Manipulating Tensors (tensor operations)\n",
    "\n",
    "Tensor operations include:\n",
    "* Addition\n",
    "* Subtraction\n",
    "* Multiplication (element-wise)\n",
    "* Division\n",
    "* Matrix multiplication"
   ],
   "id": "7c41fe4cff634b9d"
  },
  {
   "metadata": {
    "ExecuteTime": {
     "end_time": "2025-09-25T17:47:18.381151Z",
     "start_time": "2025-09-25T17:47:18.376273Z"
    }
   },
   "cell_type": "code",
   "source": [
    "# Create a tensor and add 10 to it\n",
    "tensor = torch.tensor([1, 2, 3])\n",
    "tensor + 10"
   ],
   "id": "3c70e2cba6d50657",
   "outputs": [
    {
     "data": {
      "text/plain": [
       "tensor([11, 12, 13])"
      ]
     },
     "execution_count": 36,
     "metadata": {},
     "output_type": "execute_result"
    }
   ],
   "execution_count": 36
  },
  {
   "metadata": {
    "ExecuteTime": {
     "end_time": "2025-09-25T17:47:18.406540Z",
     "start_time": "2025-09-25T17:47:18.402986Z"
    }
   },
   "cell_type": "code",
   "source": [
    "# Multiply tensor by 10\n",
    "tensor * 10"
   ],
   "id": "665c7636f0ca9417",
   "outputs": [
    {
     "data": {
      "text/plain": [
       "tensor([10, 20, 30])"
      ]
     },
     "execution_count": 37,
     "metadata": {},
     "output_type": "execute_result"
    }
   ],
   "execution_count": 37
  },
  {
   "metadata": {
    "ExecuteTime": {
     "end_time": "2025-09-25T17:47:18.427712Z",
     "start_time": "2025-09-25T17:47:18.423622Z"
    }
   },
   "cell_type": "code",
   "source": [
    "# Subtract 10\n",
    "tensor - 10"
   ],
   "id": "9da56dbb0cf8b0c",
   "outputs": [
    {
     "data": {
      "text/plain": [
       "tensor([-9, -8, -7])"
      ]
     },
     "execution_count": 38,
     "metadata": {},
     "output_type": "execute_result"
    }
   ],
   "execution_count": 38
  },
  {
   "metadata": {
    "ExecuteTime": {
     "end_time": "2025-09-25T17:47:18.442518Z",
     "start_time": "2025-09-25T17:47:18.439253Z"
    }
   },
   "cell_type": "code",
   "source": [
    "# Try out PyTorch in-build functions\n",
    "torch.mul(tensor, 10)"
   ],
   "id": "316fb953b4d4f678",
   "outputs": [
    {
     "data": {
      "text/plain": [
       "tensor([10, 20, 30])"
      ]
     },
     "execution_count": 39,
     "metadata": {},
     "output_type": "execute_result"
    }
   ],
   "execution_count": 39
  },
  {
   "metadata": {},
   "cell_type": "markdown",
   "source": [
    "### Matrix multiplication\n",
    "\n",
    "Two main ways of performing multiplication in neural network and deep learning:\n",
    "\n",
    "1. Element-wise multiplication\n",
    "2. Matrix multiplication (dot product)\n",
    "\n",
    "There are two main rules that performing matrix multiplication needs to satisfy:\n",
    "1. The **inner dimentions** must match:\n",
    "    * `(3, 2) @ (3, 2)` won't work\n",
    "    * `(2, 3) @ (3, 2)` will work\n",
    "    * `(3, 2) @ (2, 3)` will work\n",
    "2. The resulting matrix has the shape of the **outer dimentions**:\n",
    "    * `(2, 3) @ (3, 2)` will result in a matrix of shape `(2, 2)`\n",
    "    * `(3, 2) @ (2, 3)` will result in a matrix of shape `(3, 3)`"
   ],
   "id": "836d18b1ceea8272"
  },
  {
   "metadata": {
    "ExecuteTime": {
     "end_time": "2025-09-25T17:47:18.456347Z",
     "start_time": "2025-09-25T17:47:18.452347Z"
    }
   },
   "cell_type": "code",
   "source": [
    "# Create two tensors\n",
    "tensor_1 = torch.tensor([[1, 2, 3],\n",
    "                         [4, 5, 6]])\n",
    "tensor_2 = torch.tensor([[7, 8],\n",
    "                         [10, 11],\n",
    "                         [12, 13]])\n",
    "tensor_1"
   ],
   "id": "9888fb830d8c3256",
   "outputs": [
    {
     "data": {
      "text/plain": [
       "tensor([[1, 2, 3],\n",
       "        [4, 5, 6]])"
      ]
     },
     "execution_count": 40,
     "metadata": {},
     "output_type": "execute_result"
    }
   ],
   "execution_count": 40
  },
  {
   "metadata": {
    "ExecuteTime": {
     "end_time": "2025-09-25T17:47:18.491937Z",
     "start_time": "2025-09-25T17:47:18.489141Z"
    }
   },
   "cell_type": "code",
   "source": "tensor_2",
   "id": "15f560ca753022a5",
   "outputs": [
    {
     "data": {
      "text/plain": [
       "tensor([[ 7,  8],\n",
       "        [10, 11],\n",
       "        [12, 13]])"
      ]
     },
     "execution_count": 41,
     "metadata": {},
     "output_type": "execute_result"
    }
   ],
   "execution_count": 41
  },
  {
   "metadata": {
    "ExecuteTime": {
     "end_time": "2025-09-25T17:47:18.610082Z",
     "start_time": "2025-09-25T17:47:18.606984Z"
    }
   },
   "cell_type": "code",
   "source": [
    "# Element wise multiplication\n",
    "print(tensor_1, '*', tensor_1)\n",
    "print(f\"Equals: {tensor_1 * tensor_1}\")"
   ],
   "id": "7dbcadd98908ab55",
   "outputs": [
    {
     "name": "stdout",
     "output_type": "stream",
     "text": [
      "tensor([[1, 2, 3],\n",
      "        [4, 5, 6]]) * tensor([[1, 2, 3],\n",
      "        [4, 5, 6]])\n",
      "Equals: tensor([[ 1,  4,  9],\n",
      "        [16, 25, 36]])\n"
     ]
    }
   ],
   "execution_count": 42
  },
  {
   "metadata": {
    "ExecuteTime": {
     "end_time": "2025-09-25T17:47:18.647641Z",
     "start_time": "2025-09-25T17:47:18.641993Z"
    }
   },
   "cell_type": "code",
   "source": [
    "# Matrix multiplication\n",
    "torch.matmul(tensor_1, tensor_2)"
   ],
   "id": "2ea78a072712b652",
   "outputs": [
    {
     "data": {
      "text/plain": [
       "tensor([[ 63,  69],\n",
       "        [150, 165]])"
      ]
     },
     "execution_count": 43,
     "metadata": {},
     "output_type": "execute_result"
    }
   ],
   "execution_count": 43
  },
  {
   "metadata": {
    "ExecuteTime": {
     "end_time": "2025-09-25T17:47:18.692624Z",
     "start_time": "2025-09-25T17:47:18.688630Z"
    }
   },
   "cell_type": "code",
   "source": [
    "%%time\n",
    "torch.matmul(tensor_1, tensor_2)"
   ],
   "id": "3ad50d7d9d96837",
   "outputs": [
    {
     "name": "stdout",
     "output_type": "stream",
     "text": [
      "CPU times: total: 0 ns\n",
      "Wall time: 46 μs\n"
     ]
    },
    {
     "data": {
      "text/plain": [
       "tensor([[ 63,  69],\n",
       "        [150, 165]])"
      ]
     },
     "execution_count": 44,
     "metadata": {},
     "output_type": "execute_result"
    }
   ],
   "execution_count": 44
  },
  {
   "metadata": {},
   "cell_type": "markdown",
   "source": "### One of the most common errors in deep learning: shape errors",
   "id": "940ac460d5654c9"
  },
  {
   "metadata": {
    "ExecuteTime": {
     "end_time": "2025-09-25T17:47:18.822188Z",
     "start_time": "2025-09-25T17:47:18.820707Z"
    }
   },
   "cell_type": "markdown",
   "source": [
    "To fix tensor shape issues, we can manipulate the shape of one of our tensors using a **transpose**\n",
    "\n",
    "A **transpose** switches the axis or dimensions of a given tensor."
   ],
   "id": "e598ee1119e8adf6"
  },
  {
   "metadata": {
    "ExecuteTime": {
     "end_time": "2025-09-25T17:52:00.553710Z",
     "start_time": "2025-09-25T17:52:00.549824Z"
    }
   },
   "cell_type": "code",
   "source": "tensor_1, tensor_1.shape",
   "id": "f2cc012b240be1b9",
   "outputs": [
    {
     "data": {
      "text/plain": [
       "(tensor([[1, 2, 3],\n",
       "         [4, 5, 6]]),\n",
       " torch.Size([2, 3]))"
      ]
     },
     "execution_count": 45,
     "metadata": {},
     "output_type": "execute_result"
    }
   ],
   "execution_count": 45
  },
  {
   "metadata": {
    "ExecuteTime": {
     "end_time": "2025-09-25T17:52:22.013053Z",
     "start_time": "2025-09-25T17:52:21.997923Z"
    }
   },
   "cell_type": "code",
   "source": "tensor_1.T, tensor_1.T.shape",
   "id": "1494a75a1409b6d3",
   "outputs": [
    {
     "data": {
      "text/plain": [
       "(tensor([[1, 4],\n",
       "         [2, 5],\n",
       "         [3, 6]]),\n",
       " torch.Size([3, 2]))"
      ]
     },
     "execution_count": 46,
     "metadata": {},
     "output_type": "execute_result"
    }
   ],
   "execution_count": 46
  },
  {
   "metadata": {
    "ExecuteTime": {
     "end_time": "2025-09-25T17:54:04.699777Z",
     "start_time": "2025-09-25T17:54:04.686686Z"
    }
   },
   "cell_type": "code",
   "source": "torch.mm(tensor_1, tensor_1.T) # torch.mm() is the same as torch.matmul()",
   "id": "81e19b7979a644a",
   "outputs": [
    {
     "data": {
      "text/plain": [
       "tensor([[14, 32],\n",
       "        [32, 77]])"
      ]
     },
     "execution_count": 47,
     "metadata": {},
     "output_type": "execute_result"
    }
   ],
   "execution_count": 47
  }
 ],
 "metadata": {
  "kernelspec": {
   "display_name": "Python 3",
   "language": "python",
   "name": "python3"
  },
  "language_info": {
   "codemirror_mode": {
    "name": "ipython",
    "version": 2
   },
   "file_extension": ".py",
   "mimetype": "text/x-python",
   "name": "python",
   "nbconvert_exporter": "python",
   "pygments_lexer": "ipython2",
   "version": "2.7.6"
  }
 },
 "nbformat": 4,
 "nbformat_minor": 5
}
