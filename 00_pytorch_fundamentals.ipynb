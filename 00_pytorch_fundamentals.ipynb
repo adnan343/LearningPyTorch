{
 "cells": [
  {
   "metadata": {},
   "cell_type": "markdown",
   "source": [
    "## 00. PyTorch Fundamentals\n",
    "\n",
    "Resource notebook: https://www.learnpytorch.io/00_pytorch_fundamentals/\n",
    "\n",
    "If you have a question: https://github.com/mrdbourke/pytorch-deep-learning/discussions"
   ],
   "id": "466591bc10e666a8"
  },
  {
   "metadata": {
    "ExecuteTime": {
     "end_time": "2025-09-24T13:58:32.734104Z",
     "start_time": "2025-09-24T13:58:31.277820Z"
    }
   },
   "cell_type": "code",
   "source": "import torch",
   "id": "fbc121e30a2defb3",
   "outputs": [],
   "execution_count": 1
  },
  {
   "metadata": {},
   "cell_type": "markdown",
   "source": [
    "## Introduction to Tensors\n",
    "\n",
    "### Creating Tensors\n",
    "\n",
    "PyTorch tensors are created using `torch.Tensor()` = https://docs.pytorch.org/docs/stable/tensors.html"
   ],
   "id": "ffa1c1c93f58fcae"
  },
  {
   "metadata": {
    "ExecuteTime": {
     "end_time": "2025-09-24T13:58:32.742300Z",
     "start_time": "2025-09-24T13:58:32.737286Z"
    }
   },
   "cell_type": "code",
   "source": [
    "# scalar\n",
    "scalar = torch.tensor(7)\n",
    "scalar"
   ],
   "id": "1e163ab642b912a7",
   "outputs": [
    {
     "data": {
      "text/plain": [
       "tensor(7)"
      ]
     },
     "execution_count": 2,
     "metadata": {},
     "output_type": "execute_result"
    }
   ],
   "execution_count": 2
  },
  {
   "metadata": {
    "ExecuteTime": {
     "end_time": "2025-09-24T13:58:32.747792Z",
     "start_time": "2025-09-24T13:58:32.744705Z"
    }
   },
   "cell_type": "code",
   "source": "scalar.ndim",
   "id": "3651fcd8f3462cf",
   "outputs": [
    {
     "data": {
      "text/plain": [
       "0"
      ]
     },
     "execution_count": 3,
     "metadata": {},
     "output_type": "execute_result"
    }
   ],
   "execution_count": 3
  },
  {
   "metadata": {
    "ExecuteTime": {
     "end_time": "2025-09-24T13:58:32.772043Z",
     "start_time": "2025-09-24T13:58:32.769373Z"
    }
   },
   "cell_type": "code",
   "source": [
    "# Get tensor back as Python int\n",
    "scalar.item()"
   ],
   "id": "da05f6c96dcda5a0",
   "outputs": [
    {
     "data": {
      "text/plain": [
       "7"
      ]
     },
     "execution_count": 4,
     "metadata": {},
     "output_type": "execute_result"
    }
   ],
   "execution_count": 4
  },
  {
   "metadata": {
    "ExecuteTime": {
     "end_time": "2025-09-24T13:58:32.779842Z",
     "start_time": "2025-09-24T13:58:32.776878Z"
    }
   },
   "cell_type": "code",
   "source": [
    "# Vector\n",
    "vector = torch.tensor([7, 7])\n",
    "vector"
   ],
   "id": "ee703cc09c773391",
   "outputs": [
    {
     "data": {
      "text/plain": [
       "tensor([7, 7])"
      ]
     },
     "execution_count": 5,
     "metadata": {},
     "output_type": "execute_result"
    }
   ],
   "execution_count": 5
  },
  {
   "metadata": {
    "ExecuteTime": {
     "end_time": "2025-09-24T13:58:32.794548Z",
     "start_time": "2025-09-24T13:58:32.791959Z"
    }
   },
   "cell_type": "code",
   "source": "vector.ndim",
   "id": "83ed257041eddae5",
   "outputs": [
    {
     "data": {
      "text/plain": [
       "1"
      ]
     },
     "execution_count": 6,
     "metadata": {},
     "output_type": "execute_result"
    }
   ],
   "execution_count": 6
  },
  {
   "metadata": {
    "ExecuteTime": {
     "end_time": "2025-09-24T13:58:32.807759Z",
     "start_time": "2025-09-24T13:58:32.804512Z"
    }
   },
   "cell_type": "code",
   "source": "vector.shape",
   "id": "f6acce5cf937a474",
   "outputs": [
    {
     "data": {
      "text/plain": [
       "torch.Size([2])"
      ]
     },
     "execution_count": 7,
     "metadata": {},
     "output_type": "execute_result"
    }
   ],
   "execution_count": 7
  },
  {
   "metadata": {
    "ExecuteTime": {
     "end_time": "2025-09-24T13:58:32.824573Z",
     "start_time": "2025-09-24T13:58:32.821415Z"
    }
   },
   "cell_type": "code",
   "source": [
    "# MATRIX\n",
    "MATRIX = torch.tensor([[7,8],\n",
    "                       [9,10]])\n",
    "MATRIX"
   ],
   "id": "a01e942c92e3f13c",
   "outputs": [
    {
     "data": {
      "text/plain": [
       "tensor([[ 7,  8],\n",
       "        [ 9, 10]])"
      ]
     },
     "execution_count": 8,
     "metadata": {},
     "output_type": "execute_result"
    }
   ],
   "execution_count": 8
  },
  {
   "metadata": {
    "ExecuteTime": {
     "end_time": "2025-09-24T13:58:32.861746Z",
     "start_time": "2025-09-24T13:58:32.859295Z"
    }
   },
   "cell_type": "code",
   "source": "MATRIX.ndim",
   "id": "1e11f72f7d8c39f8",
   "outputs": [
    {
     "data": {
      "text/plain": [
       "2"
      ]
     },
     "execution_count": 9,
     "metadata": {},
     "output_type": "execute_result"
    }
   ],
   "execution_count": 9
  },
  {
   "metadata": {
    "ExecuteTime": {
     "end_time": "2025-09-24T13:58:32.914950Z",
     "start_time": "2025-09-24T13:58:32.912197Z"
    }
   },
   "cell_type": "code",
   "source": "MATRIX[1]",
   "id": "87335da241ac530e",
   "outputs": [
    {
     "data": {
      "text/plain": [
       "tensor([ 9, 10])"
      ]
     },
     "execution_count": 10,
     "metadata": {},
     "output_type": "execute_result"
    }
   ],
   "execution_count": 10
  },
  {
   "metadata": {
    "ExecuteTime": {
     "end_time": "2025-09-24T13:58:32.938029Z",
     "start_time": "2025-09-24T13:58:32.934772Z"
    }
   },
   "cell_type": "code",
   "source": "MATRIX.size()",
   "id": "ce31bbabad816e26",
   "outputs": [
    {
     "data": {
      "text/plain": [
       "torch.Size([2, 2])"
      ]
     },
     "execution_count": 11,
     "metadata": {},
     "output_type": "execute_result"
    }
   ],
   "execution_count": 11
  },
  {
   "metadata": {
    "ExecuteTime": {
     "end_time": "2025-09-24T13:58:32.948436Z",
     "start_time": "2025-09-24T13:58:32.945545Z"
    }
   },
   "cell_type": "code",
   "source": "MATRIX[1].ndim",
   "id": "20ff67aeb165f5d8",
   "outputs": [
    {
     "data": {
      "text/plain": [
       "1"
      ]
     },
     "execution_count": 12,
     "metadata": {},
     "output_type": "execute_result"
    }
   ],
   "execution_count": 12
  },
  {
   "metadata": {
    "ExecuteTime": {
     "end_time": "2025-09-24T13:58:32.958711Z",
     "start_time": "2025-09-24T13:58:32.955633Z"
    }
   },
   "cell_type": "code",
   "source": "MATRIX[1].size()",
   "id": "dd2056187152f3fc",
   "outputs": [
    {
     "data": {
      "text/plain": [
       "torch.Size([2])"
      ]
     },
     "execution_count": 13,
     "metadata": {},
     "output_type": "execute_result"
    }
   ],
   "execution_count": 13
  },
  {
   "metadata": {
    "ExecuteTime": {
     "end_time": "2025-09-24T13:58:32.986108Z",
     "start_time": "2025-09-24T13:58:32.982820Z"
    }
   },
   "cell_type": "code",
   "source": [
    "# TENSOR\n",
    "TENSOR = torch.tensor([[[7,8],\n",
    "                       [9,10]],\n",
    "                      [[11,12],\n",
    "                       [13,14]]])\n",
    "TENSOR"
   ],
   "id": "7d3995029cda2613",
   "outputs": [
    {
     "data": {
      "text/plain": [
       "tensor([[[ 7,  8],\n",
       "         [ 9, 10]],\n",
       "\n",
       "        [[11, 12],\n",
       "         [13, 14]]])"
      ]
     },
     "execution_count": 14,
     "metadata": {},
     "output_type": "execute_result"
    }
   ],
   "execution_count": 14
  },
  {
   "metadata": {
    "ExecuteTime": {
     "end_time": "2025-09-24T13:58:32.997964Z",
     "start_time": "2025-09-24T13:58:32.995173Z"
    }
   },
   "cell_type": "code",
   "source": "TENSOR.ndim",
   "id": "69d302ad206c2348",
   "outputs": [
    {
     "data": {
      "text/plain": [
       "3"
      ]
     },
     "execution_count": 15,
     "metadata": {},
     "output_type": "execute_result"
    }
   ],
   "execution_count": 15
  },
  {
   "metadata": {
    "ExecuteTime": {
     "end_time": "2025-09-24T13:58:33.009233Z",
     "start_time": "2025-09-24T13:58:33.006157Z"
    }
   },
   "cell_type": "code",
   "source": "TENSOR.size()",
   "id": "c7f2a299f49d166c",
   "outputs": [
    {
     "data": {
      "text/plain": [
       "torch.Size([2, 2, 2])"
      ]
     },
     "execution_count": 16,
     "metadata": {},
     "output_type": "execute_result"
    }
   ],
   "execution_count": 16
  },
  {
   "metadata": {
    "ExecuteTime": {
     "end_time": "2025-09-24T13:59:47.138920Z",
     "start_time": "2025-09-24T13:59:47.135806Z"
    }
   },
   "cell_type": "code",
   "source": "TENSOR[0]",
   "id": "c09686ebc8cbc60d",
   "outputs": [
    {
     "data": {
      "text/plain": [
       "tensor([[ 7,  8],\n",
       "        [ 9, 10]])"
      ]
     },
     "execution_count": 17,
     "metadata": {},
     "output_type": "execute_result"
    }
   ],
   "execution_count": 17
  },
  {
   "metadata": {
    "ExecuteTime": {
     "end_time": "2025-09-24T13:59:57.057524Z",
     "start_time": "2025-09-24T13:59:57.054171Z"
    }
   },
   "cell_type": "code",
   "source": "TENSOR[0,0]",
   "id": "aa4fdeadf52269d0",
   "outputs": [
    {
     "data": {
      "text/plain": [
       "tensor([7, 8])"
      ]
     },
     "execution_count": 18,
     "metadata": {},
     "output_type": "execute_result"
    }
   ],
   "execution_count": 18
  },
  {
   "metadata": {},
   "cell_type": "markdown",
   "source": [
    "### Random tensors\n",
    "\n",
    "Why random tensors?\n",
    "\n",
    "Random tensors are important because the way many neural networks learn is that they start with tensors full of random numbers and then adjust those random numbers to better represent the data.\n",
    "\n",
    "`Start with random numbers -> look at data -> update random numbers -> look at data -> update random numbers`\n",
    "\n",
    "Torch random tensors - https://docs.pytorch.org/docs/2.8/generated/torch.rand.html"
   ],
   "id": "954780f73a2a2e2f"
  },
  {
   "metadata": {
    "ExecuteTime": {
     "end_time": "2025-09-24T16:46:19.817299Z",
     "start_time": "2025-09-24T16:46:19.814050Z"
    }
   },
   "cell_type": "code",
   "source": [
    "# Create a random tensor of size (3,4)\n",
    "random_tensor = torch.rand(3, 4)\n",
    "random_tensor"
   ],
   "id": "ead6e6dadcf1a138",
   "outputs": [
    {
     "data": {
      "text/plain": [
       "tensor([[0.2511, 0.7605, 0.9265, 0.0613],\n",
       "        [0.2472, 0.7404, 0.1585, 0.2913],\n",
       "        [0.8951, 0.6173, 0.4553, 0.8380]])"
      ]
     },
     "execution_count": 25,
     "metadata": {},
     "output_type": "execute_result"
    }
   ],
   "execution_count": 25
  },
  {
   "metadata": {
    "ExecuteTime": {
     "end_time": "2025-09-24T16:46:21.882128Z",
     "start_time": "2025-09-24T16:46:21.879398Z"
    }
   },
   "cell_type": "code",
   "source": "random_tensor.ndim",
   "id": "e73195ddb213afe8",
   "outputs": [
    {
     "data": {
      "text/plain": [
       "2"
      ]
     },
     "execution_count": 26,
     "metadata": {},
     "output_type": "execute_result"
    }
   ],
   "execution_count": 26
  },
  {
   "metadata": {
    "ExecuteTime": {
     "end_time": "2025-09-24T16:53:19.334823Z",
     "start_time": "2025-09-24T16:53:19.331290Z"
    }
   },
   "cell_type": "code",
   "source": [
    "# Create a random tensor with a similar shape to an image tensor\n",
    "random_image_size_tensor = torch.rand(size = (3, 224, 224)) # color channels (R, G, B), height, width\n",
    "random_image_size_tensor.shape, random_image_size_tensor.ndim"
   ],
   "id": "773440f1b109692c",
   "outputs": [
    {
     "data": {
      "text/plain": [
       "(torch.Size([3, 224, 224]), 3)"
      ]
     },
     "execution_count": 29,
     "metadata": {},
     "output_type": "execute_result"
    }
   ],
   "execution_count": 29
  },
  {
   "metadata": {},
   "cell_type": "markdown",
   "source": "### Zeros and ones",
   "id": "2b866ce54928a0d6"
  },
  {
   "metadata": {
    "ExecuteTime": {
     "end_time": "2025-09-24T16:54:42.420772Z",
     "start_time": "2025-09-24T16:54:42.416937Z"
    }
   },
   "cell_type": "code",
   "source": [
    "# Create a tensor of all zeros\n",
    "zeros = torch.zeros(size = (3, 4))\n",
    "zeros"
   ],
   "id": "7ec88021de7886cb",
   "outputs": [
    {
     "data": {
      "text/plain": [
       "tensor([[0., 0., 0., 0.],\n",
       "        [0., 0., 0., 0.],\n",
       "        [0., 0., 0., 0.]])"
      ]
     },
     "execution_count": 30,
     "metadata": {},
     "output_type": "execute_result"
    }
   ],
   "execution_count": 30
  },
  {
   "metadata": {
    "ExecuteTime": {
     "end_time": "2025-09-24T16:54:54.719961Z",
     "start_time": "2025-09-24T16:54:54.715932Z"
    }
   },
   "cell_type": "code",
   "source": "zeros * random_tensor",
   "id": "3a70aa4aa0f2ccb6",
   "outputs": [
    {
     "data": {
      "text/plain": [
       "tensor([[0., 0., 0., 0.],\n",
       "        [0., 0., 0., 0.],\n",
       "        [0., 0., 0., 0.]])"
      ]
     },
     "execution_count": 31,
     "metadata": {},
     "output_type": "execute_result"
    }
   ],
   "execution_count": 31
  },
  {
   "metadata": {
    "ExecuteTime": {
     "end_time": "2025-09-24T16:55:45.647308Z",
     "start_time": "2025-09-24T16:55:45.643299Z"
    }
   },
   "cell_type": "code",
   "source": [
    "# Create a tensor of all ones\n",
    "ones = torch.ones(size=(3, 4))\n",
    "ones"
   ],
   "id": "d3ad004e25afc3fa",
   "outputs": [
    {
     "data": {
      "text/plain": [
       "tensor([[1., 1., 1., 1.],\n",
       "        [1., 1., 1., 1.],\n",
       "        [1., 1., 1., 1.]])"
      ]
     },
     "execution_count": 32,
     "metadata": {},
     "output_type": "execute_result"
    }
   ],
   "execution_count": 32
  },
  {
   "metadata": {
    "ExecuteTime": {
     "end_time": "2025-09-24T16:55:58.618803Z",
     "start_time": "2025-09-24T16:55:58.616107Z"
    }
   },
   "cell_type": "code",
   "source": "ones.dtype",
   "id": "4cb180c2da83bd28",
   "outputs": [
    {
     "data": {
      "text/plain": [
       "torch.float32"
      ]
     },
     "execution_count": 33,
     "metadata": {},
     "output_type": "execute_result"
    }
   ],
   "execution_count": 33
  },
  {
   "metadata": {},
   "cell_type": "markdown",
   "source": "### Creating a range of tensors and tensor-like",
   "id": "efe30609136d18e9"
  },
  {
   "metadata": {
    "ExecuteTime": {
     "end_time": "2025-09-24T17:00:20.699221Z",
     "start_time": "2025-09-24T17:00:20.696056Z"
    }
   },
   "cell_type": "code",
   "source": [
    "# Use torch.arange()\n",
    "one_to_ten = torch.arange(1,11)\n",
    "one_to_ten"
   ],
   "id": "3fc0f2f5958f458d",
   "outputs": [
    {
     "data": {
      "text/plain": [
       "tensor([ 1,  2,  3,  4,  5,  6,  7,  8,  9, 10])"
      ]
     },
     "execution_count": 38,
     "metadata": {},
     "output_type": "execute_result"
    }
   ],
   "execution_count": 38
  },
  {
   "metadata": {
    "ExecuteTime": {
     "end_time": "2025-09-24T17:05:06.702461Z",
     "start_time": "2025-09-24T17:05:06.699034Z"
    }
   },
   "cell_type": "code",
   "source": [
    "# Creating tensor like\n",
    "ten_zeros = torch.zeros_like(input = one_to_ten)\n",
    "ten_zeros"
   ],
   "id": "f45d25429be21a76",
   "outputs": [
    {
     "data": {
      "text/plain": [
       "tensor([0, 0, 0, 0, 0, 0, 0, 0, 0, 0])"
      ]
     },
     "execution_count": 41,
     "metadata": {},
     "output_type": "execute_result"
    }
   ],
   "execution_count": 41
  },
  {
   "metadata": {},
   "cell_type": "markdown",
   "source": [
    "### Tensor datatypes\n",
    "\n",
    "**Note:** Tensor datatypes are one of the three big errors you'll run into with PyTorch & deep learning:\n",
    "1. Tensors not right datatype\n",
    "2. Tensors not right shape\n",
    "3. Tensors not on the right device"
   ],
   "id": "bb401f81700185dc"
  },
  {
   "metadata": {
    "ExecuteTime": {
     "end_time": "2025-09-24T17:35:06.594877Z",
     "start_time": "2025-09-24T17:35:06.589454Z"
    }
   },
   "cell_type": "code",
   "source": [
    "# Float 32 tensor\n",
    "float_32_tensor = torch.tensor([3.0, 6.0, 9.0],\n",
    "                               dtype=None, # what data type is the tensor? (e.g. float32 or float64)\n",
    "                               device=\"cuda\", # where is the tensor on? (e.g. cpu or cuda)\n",
    "                               requires_grad=False) # whether or not to track gradients with this tensor's operations\n",
    "float_32_tensor"
   ],
   "id": "8375d6b911785508",
   "outputs": [
    {
     "data": {
      "text/plain": [
       "tensor([3., 6., 9.], device='cuda:0')"
      ]
     },
     "execution_count": 52,
     "metadata": {},
     "output_type": "execute_result"
    }
   ],
   "execution_count": 52
  },
  {
   "metadata": {
    "ExecuteTime": {
     "end_time": "2025-09-24T17:37:55.085542Z",
     "start_time": "2025-09-24T17:37:55.082920Z"
    }
   },
   "cell_type": "code",
   "source": "float_32_tensor.dtype",
   "id": "8e3981f4565d0e72",
   "outputs": [
    {
     "data": {
      "text/plain": [
       "torch.float32"
      ]
     },
     "execution_count": 55,
     "metadata": {},
     "output_type": "execute_result"
    }
   ],
   "execution_count": 55
  },
  {
   "metadata": {
    "ExecuteTime": {
     "end_time": "2025-09-24T17:37:44.441914Z",
     "start_time": "2025-09-24T17:37:44.413341Z"
    }
   },
   "cell_type": "code",
   "source": [
    "float_16_tensor = float_32_tensor.type(torch.float16)\n",
    "float_16_tensor"
   ],
   "id": "b1a2b02643d71398",
   "outputs": [
    {
     "data": {
      "text/plain": [
       "tensor([3., 6., 9.], device='cuda:0', dtype=torch.float16)"
      ]
     },
     "execution_count": 54,
     "metadata": {},
     "output_type": "execute_result"
    }
   ],
   "execution_count": 54
  },
  {
   "metadata": {
    "ExecuteTime": {
     "end_time": "2025-09-24T17:38:58.101958Z",
     "start_time": "2025-09-24T17:38:58.097441Z"
    }
   },
   "cell_type": "code",
   "source": "float_16_tensor * float_32_tensor",
   "id": "3ab895e5211c16d7",
   "outputs": [
    {
     "data": {
      "text/plain": [
       "tensor([ 9., 36., 81.], device='cuda:0')"
      ]
     },
     "execution_count": 56,
     "metadata": {},
     "output_type": "execute_result"
    }
   ],
   "execution_count": 56
  },
  {
   "metadata": {
    "ExecuteTime": {
     "end_time": "2025-09-24T17:41:50.260389Z",
     "start_time": "2025-09-24T17:41:50.256539Z"
    }
   },
   "cell_type": "code",
   "source": [
    "int_32_tensor = torch.tensor([2, 6, 3],\n",
    "                             dtype=torch.int32,\n",
    "                             device=\"cuda\",\n",
    "                             requires_grad=False)\n",
    "int_32_tensor"
   ],
   "id": "e2ffbaa5aaf0514f",
   "outputs": [
    {
     "data": {
      "text/plain": [
       "tensor([2, 6, 3], device='cuda:0', dtype=torch.int32)"
      ]
     },
     "execution_count": 59,
     "metadata": {},
     "output_type": "execute_result"
    }
   ],
   "execution_count": 59
  },
  {
   "metadata": {
    "ExecuteTime": {
     "end_time": "2025-09-24T17:41:54.229330Z",
     "start_time": "2025-09-24T17:41:54.224645Z"
    }
   },
   "cell_type": "code",
   "source": "int_32_tensor * float_32_tensor",
   "id": "b4959d12d47bae55",
   "outputs": [
    {
     "data": {
      "text/plain": [
       "tensor([ 6., 36., 27.], device='cuda:0')"
      ]
     },
     "execution_count": 60,
     "metadata": {},
     "output_type": "execute_result"
    }
   ],
   "execution_count": 60
  },
  {
   "metadata": {},
   "cell_type": "markdown",
   "source": [
    "### Getting information from tensors (tensor attributes)\n",
    "\n",
    "1. Tensors not right datatype - to get data type, use `tensor.dtype`\n",
    "2. Tensors not right shape - to get shape, use `tensor.shape`\n",
    "3. Tensors not on the right device - to get device, use `tensor.device`"
   ],
   "id": "258f8f6a8c014f5c"
  },
  {
   "metadata": {
    "ExecuteTime": {
     "end_time": "2025-09-24T18:08:51.529522Z",
     "start_time": "2025-09-24T18:08:51.523881Z"
    }
   },
   "cell_type": "code",
   "source": [
    "# Create a tensor\n",
    "some_tensor = torch.rand(3,4, dtype=torch.float16, device=\"cuda\")\n",
    "some_tensor"
   ],
   "id": "975d27b9e7b17f72",
   "outputs": [
    {
     "data": {
      "text/plain": [
       "tensor([[0.9648, 0.7969, 0.0481, 0.0878],\n",
       "        [0.3572, 0.6191, 0.3926, 0.3364],\n",
       "        [0.0490, 0.0029, 0.5156, 0.2101]], device='cuda:0',\n",
       "       dtype=torch.float16)"
      ]
     },
     "execution_count": 71,
     "metadata": {},
     "output_type": "execute_result"
    }
   ],
   "execution_count": 71
  },
  {
   "metadata": {
    "ExecuteTime": {
     "end_time": "2025-09-24T18:08:55.061077Z",
     "start_time": "2025-09-24T18:08:55.056111Z"
    }
   },
   "cell_type": "code",
   "source": [
    "# Find out details about some tensor\n",
    "print(some_tensor)\n",
    "print()\n",
    "print(f\"Data type of tensor: {some_tensor.dtype}\")\n",
    "print(f\"Shape of tensor: {some_tensor.shape}\")\n",
    "print(f\"Device tensor is on: {some_tensor.device}\")"
   ],
   "id": "9919f0e7de7fd704",
   "outputs": [
    {
     "name": "stdout",
     "output_type": "stream",
     "text": [
      "tensor([[0.9648, 0.7969, 0.0481, 0.0878],\n",
      "        [0.3572, 0.6191, 0.3926, 0.3364],\n",
      "        [0.0490, 0.0029, 0.5156, 0.2101]], device='cuda:0',\n",
      "       dtype=torch.float16)\n",
      "\n",
      "Data type of tensor: torch.float16\n",
      "Shape of tensor: torch.Size([3, 4])\n",
      "Device tensor is on: cuda:0\n"
     ]
    }
   ],
   "execution_count": 72
  },
  {
   "metadata": {},
   "cell_type": "markdown",
   "source": [
    "### Manipulating Tensors (tensor operations)\n",
    "\n",
    "Tensor operations include:\n",
    "* Addition\n",
    "* Subtraction\n",
    "* Multiplication (element-wise)\n",
    "* Division\n",
    "* Matrix multiplication"
   ],
   "id": "7c41fe4cff634b9d"
  },
  {
   "metadata": {
    "ExecuteTime": {
     "end_time": "2025-09-24T18:16:32.955894Z",
     "start_time": "2025-09-24T18:16:32.952179Z"
    }
   },
   "cell_type": "code",
   "source": [
    "# Create a tensor and add 10 to it\n",
    "tensor = torch.tensor([1, 2, 3])\n",
    "tensor + 10"
   ],
   "id": "3c70e2cba6d50657",
   "outputs": [
    {
     "data": {
      "text/plain": [
       "tensor([11, 12, 13])"
      ]
     },
     "execution_count": 73,
     "metadata": {},
     "output_type": "execute_result"
    }
   ],
   "execution_count": 73
  },
  {
   "metadata": {
    "ExecuteTime": {
     "end_time": "2025-09-24T18:17:39.326934Z",
     "start_time": "2025-09-24T18:17:39.323732Z"
    }
   },
   "cell_type": "code",
   "source": [
    "# Multiply tensor by 10\n",
    "tensor * 10"
   ],
   "id": "665c7636f0ca9417",
   "outputs": [
    {
     "data": {
      "text/plain": [
       "tensor([10, 20, 30])"
      ]
     },
     "execution_count": 74,
     "metadata": {},
     "output_type": "execute_result"
    }
   ],
   "execution_count": 74
  },
  {
   "metadata": {
    "ExecuteTime": {
     "end_time": "2025-09-24T18:21:07.160375Z",
     "start_time": "2025-09-24T18:21:07.155790Z"
    }
   },
   "cell_type": "code",
   "source": [
    "# Subtract 10\n",
    "tensor - 10"
   ],
   "id": "9da56dbb0cf8b0c",
   "outputs": [
    {
     "data": {
      "text/plain": [
       "tensor([-9, -8, -7])"
      ]
     },
     "execution_count": 75,
     "metadata": {},
     "output_type": "execute_result"
    }
   ],
   "execution_count": 75
  },
  {
   "metadata": {
    "ExecuteTime": {
     "end_time": "2025-09-24T18:22:31.718042Z",
     "start_time": "2025-09-24T18:22:31.714311Z"
    }
   },
   "cell_type": "code",
   "source": [
    "# Try out PyTorch in-build functions\n",
    "torch.mul(tensor, 10)"
   ],
   "id": "316fb953b4d4f678",
   "outputs": [
    {
     "data": {
      "text/plain": [
       "tensor([10, 20, 30])"
      ]
     },
     "execution_count": 76,
     "metadata": {},
     "output_type": "execute_result"
    }
   ],
   "execution_count": 76
  }
 ],
 "metadata": {
  "kernelspec": {
   "display_name": "Python 3",
   "language": "python",
   "name": "python3"
  },
  "language_info": {
   "codemirror_mode": {
    "name": "ipython",
    "version": 2
   },
   "file_extension": ".py",
   "mimetype": "text/x-python",
   "name": "python",
   "nbconvert_exporter": "python",
   "pygments_lexer": "ipython2",
   "version": "2.7.6"
  }
 },
 "nbformat": 4,
 "nbformat_minor": 5
}
